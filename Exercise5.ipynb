{
 "cells": [
  {
   "cell_type": "markdown",
   "id": "d77bd23a",
   "metadata": {},
   "source": [
    "## Exercise 9.5: Singular values\n",
    "Generate an n × n matrix, denoted by C, where each entry is 1 with probability p and 0 otherwise. Use\n",
    "the linear algebra library of Scipy to compute the singular values of C. What can you say about the\n",
    "relationship between n, p and the largest singular value?"
   ]
  },
  {
   "cell_type": "code",
   "execution_count": 9,
   "id": "49af91b2",
   "metadata": {},
   "outputs": [
    {
     "name": "stdout",
     "output_type": "stream",
     "text": [
      "2.8265028304121986\n"
     ]
    }
   ],
   "source": [
    "from scipy.linalg import svdvals\n",
    "import numpy as np\n",
    "def singular_values(n,p):\n",
    "    f=[0,1]\n",
    "    C=np.random.choice(f,size=(n,n),p=[1-p,p])\n",
    "    \n",
    "    print(svdvals(C).max())\n",
    "singular_values(20,0.10)"
   ]
  },
  {
   "cell_type": "markdown",
   "id": "994512b1",
   "metadata": {},
   "source": [
    "# 10 Scipy"
   ]
  },
  {
   "cell_type": "markdown",
   "id": "0e2b3efa",
   "metadata": {},
   "source": [
    "## Exercise 10.1: Least squares\n",
    "Generate matrix A ∈ Rm×n with m > n. Also generate some vector b ∈ Rm.\n",
    "Now find x = arg minx ||Ax − b||2.\n",
    "Print the norm of the residual"
   ]
  },
  {
   "cell_type": "code",
   "execution_count": 10,
   "id": "79d0180b",
   "metadata": {},
   "outputs": [
    {
     "data": {
      "text/plain": [
       "array([-0.11311712, -0.0158354 , -0.03075598, -0.17248229, -0.18014293,\n",
       "        0.19634741,  0.36504644,  0.46390203,  0.21856968,  0.11099177,\n",
       "       -0.05320877,  0.14963451, -0.10180848, -0.41427838,  0.33378696,\n",
       "        0.16954541,  0.010361  , -0.19051123,  0.05206036,  0.08033163])"
      ]
     },
     "execution_count": 10,
     "metadata": {},
     "output_type": "execute_result"
    }
   ],
   "source": [
    "import numpy as np\n",
    "A=np.random.rand(30,20)\n",
    "b=np.random.rand(30)\n",
    "x=np.linalg.lstsq(A, b, rcond=None)[0]\n",
    "x"
   ]
  },
  {
   "cell_type": "code",
   "execution_count": 11,
   "id": "0b0f0936",
   "metadata": {},
   "outputs": [
    {
     "data": {
      "text/plain": [
       "1.042541260765257"
      ]
     },
     "execution_count": 11,
     "metadata": {},
     "output_type": "execute_result"
    }
   ],
   "source": [
    "res=np.linalg.lstsq(A, b, rcond=None)[1]\n",
    "res\n",
    "np.linalg.norm(res)"
   ]
  },
  {
   "cell_type": "markdown",
   "id": "cda11e82",
   "metadata": {},
   "source": [
    "## Exercise 10.2: Optimization\n",
    "Find the maximum of the function\n",
    "f(x) = sin^2\n",
    "(x − 2)e^\n",
    "−x\n",
    "^2\n"
   ]
  },
  {
   "cell_type": "code",
   "execution_count": 12,
   "id": "dd5983a7",
   "metadata": {},
   "outputs": [
    {
     "name": "stdout",
     "output_type": "stream",
     "text": [
      "Optimization terminated successfully.\n",
      "         Current function value: -0.911685\n",
      "         Iterations: 20\n",
      "         Function evaluations: 40\n"
     ]
    },
    {
     "data": {
      "text/plain": [
       "array([0.21625])"
      ]
     },
     "execution_count": 12,
     "metadata": {},
     "output_type": "execute_result"
    }
   ],
   "source": [
    "from scipy import optimize\n",
    "import scipy\n",
    "def funct(x):\n",
    "    return ((np.sin(x-2))**2)*np.exp(-x**2)\n",
    "\n",
    "maximum = optimize.fmin(lambda x: -funct(x), 0)\n",
    "maximum"
   ]
  },
  {
   "cell_type": "markdown",
   "id": "454a307d",
   "metadata": {},
   "source": [
    "## Exercise 10.3: Pairwise distances\n",
    "Let X be a matrix with n rows and m columns. How can you compute the pairwise distances between\n",
    "every two rows?\n",
    "As an example application, consider n cities, and we are given their coordinates in two columns. Now\n",
    "we want a nice table that tells us for each two cities, how far they are apart.\n",
    "Again, make sure you make use of Scipy’s functionality instead of writing your own routine"
   ]
  },
  {
   "cell_type": "code",
   "execution_count": 13,
   "id": "51d9c113",
   "metadata": {},
   "outputs": [
    {
     "data": {
      "text/plain": [
       "array([[0.        , 0.38531527, 0.36224626, 0.32352623, 0.5271687 ,\n",
       "        0.2148813 , 0.29180151, 0.24257109, 0.52500674, 0.45818554],\n",
       "       [0.38531527, 0.        , 0.57236321, 0.31609717, 0.1422456 ,\n",
       "        0.59980729, 0.67659375, 0.5508534 , 0.28566319, 0.60745255],\n",
       "       [0.36224626, 0.57236321, 0.        , 0.66541418, 0.69532004,\n",
       "        0.40282225, 0.44352797, 0.56836483, 0.81338223, 0.11210296],\n",
       "       [0.32352623, 0.31609717, 0.66541418, 0.        , 0.40829468,\n",
       "        0.4773009 , 0.54191843, 0.32698908, 0.24680776, 0.74420695],\n",
       "       [0.5271687 , 0.1422456 , 0.69532004, 0.40829468, 0.        ,\n",
       "        0.7413089 , 0.81797806, 0.68051172, 0.27960798, 0.71668873],\n",
       "       [0.2148813 , 0.59980729, 0.40282225, 0.4773009 , 0.7413089 ,\n",
       "        0.        , 0.07692756, 0.21176655, 0.70940399, 0.51477049],\n",
       "       [0.29180151, 0.67659375, 0.44352797, 0.54191843, 0.81797806,\n",
       "        0.07692756, 0.        , 0.24857699, 0.77872016, 0.55522577],\n",
       "       [0.24257109, 0.5508534 , 0.56836483, 0.32698908, 0.68051172,\n",
       "        0.21176655, 0.24857699, 0.        , 0.57364567, 0.67520249],\n",
       "       [0.52500674, 0.28566319, 0.81338223, 0.24680776, 0.27960798,\n",
       "        0.70940399, 0.77872016, 0.57364567, 0.        , 0.86820459],\n",
       "       [0.45818554, 0.60745255, 0.11210296, 0.74420695, 0.71668873,\n",
       "        0.51477049, 0.55522577, 0.67520249, 0.86820459, 0.        ]])"
      ]
     },
     "execution_count": 13,
     "metadata": {},
     "output_type": "execute_result"
    }
   ],
   "source": [
    "X=np.random.rand(10,2)\n",
    "\n",
    "from sklearn.metrics.pairwise import euclidean_distances\n",
    "euclidean_distances(X,X)"
   ]
  },
  {
   "cell_type": "code",
   "execution_count": 14,
   "id": "9c8ff936",
   "metadata": {},
   "outputs": [
    {
     "data": {
      "text/plain": [
       "array([[0.        , 0.38531527, 0.36224626, 0.32352623, 0.5271687 ,\n",
       "        0.2148813 , 0.29180151, 0.24257109, 0.52500674, 0.45818554],\n",
       "       [0.38531527, 0.        , 0.57236321, 0.31609717, 0.1422456 ,\n",
       "        0.59980729, 0.67659375, 0.5508534 , 0.28566319, 0.60745255],\n",
       "       [0.36224626, 0.57236321, 0.        , 0.66541418, 0.69532004,\n",
       "        0.40282225, 0.44352797, 0.56836483, 0.81338223, 0.11210296],\n",
       "       [0.32352623, 0.31609717, 0.66541418, 0.        , 0.40829468,\n",
       "        0.4773009 , 0.54191843, 0.32698908, 0.24680776, 0.74420695],\n",
       "       [0.5271687 , 0.1422456 , 0.69532004, 0.40829468, 0.        ,\n",
       "        0.7413089 , 0.81797806, 0.68051172, 0.27960798, 0.71668873],\n",
       "       [0.2148813 , 0.59980729, 0.40282225, 0.4773009 , 0.7413089 ,\n",
       "        0.        , 0.07692756, 0.21176655, 0.70940399, 0.51477049],\n",
       "       [0.29180151, 0.67659375, 0.44352797, 0.54191843, 0.81797806,\n",
       "        0.07692756, 0.        , 0.24857699, 0.77872016, 0.55522577],\n",
       "       [0.24257109, 0.5508534 , 0.56836483, 0.32698908, 0.68051172,\n",
       "        0.21176655, 0.24857699, 0.        , 0.57364567, 0.67520249],\n",
       "       [0.52500674, 0.28566319, 0.81338223, 0.24680776, 0.27960798,\n",
       "        0.70940399, 0.77872016, 0.57364567, 0.        , 0.86820459],\n",
       "       [0.45818554, 0.60745255, 0.11210296, 0.74420695, 0.71668873,\n",
       "        0.51477049, 0.55522577, 0.67520249, 0.86820459, 0.        ]])"
      ]
     },
     "execution_count": 14,
     "metadata": {},
     "output_type": "execute_result"
    }
   ],
   "source": [
    "pairwise=scipy.spatial.distance.cdist(X, X,metric='euclidean')\n",
    "pairwise"
   ]
  },
  {
   "cell_type": "markdown",
   "id": "3fe19f45",
   "metadata": {},
   "source": [
    "## 11 Matplotlib"
   ]
  },
  {
   "cell_type": "markdown",
   "id": "25411358",
   "metadata": {},
   "source": [
    "## Exercise 11.1: Plotting a function\n",
    "Plot the function\n",
    "f(x) = sin^2\n",
    "(x − 2)e^\n",
    "−x^\n",
    "2\n",
    "\n",
    "over the interval [0, 2]. Add proper axis labels, a title, etc."
   ]
  },
  {
   "cell_type": "code",
   "execution_count": 16,
   "id": "3a46744d",
   "metadata": {},
   "outputs": [
    {
     "data": {
      "text/plain": [
       "[<matplotlib.lines.Line2D at 0x2a101ea1690>]"
      ]
     },
     "execution_count": 16,
     "metadata": {},
     "output_type": "execute_result"
    },
    {
     "data": {
      "image/png": "[encoded data removed]",
      "text/plain": [
       "<Figure size 432x288 with 1 Axes>"
      ]
     },
     "metadata": {
      "needs_background": "light"
     },
     "output_type": "display_data"
    }
   ],
   "source": [
    "import matplotlib.pyplot as plt\n",
    "x = np.linspace(0,2,100)\n",
    "plt.title('Function')\n",
    "plt.xlabel('variables')\n",
    "plt.ylabel('values')\n",
    "plt.plot(x,funct(x))"
   ]
  },
  {
   "cell_type": "markdown",
   "id": "8df7e2d3",
   "metadata": {},
   "source": [
    "## Exercise 11.2: Data\n",
    "Create a data matrix X with 20 observations of 10 variables. Generate a vector b with parameters Then\n",
    "generate the response vector y = Xb+z where z is a vector with standard normally distributed variables.\n",
    "Now (by only using y and X), find an estimator for b, by solving\n",
    "\n",
    "ˆb = arg min\n",
    "b\n",
    "||Xb − y||2\n",
    "\n",
    "Plot the true parameters b and estimated parameters ˆb. See Figure 1 for an example plot"
   ]
  },
  {
   "cell_type": "code",
   "execution_count": 107,
   "id": "56d4ebf3",
   "metadata": {},
   "outputs": [
    {
     "data": {
      "text/plain": [
       "<matplotlib.legend.Legend at 0x2a10a68b550>"
      ]
     },
     "execution_count": 107,
     "metadata": {},
     "output_type": "execute_result"
    },
    {
     "data": {
      "image/png": "[encoded data removed]",
      "text/plain": [
       "<Figure size 432x288 with 1 Axes>"
      ]
     },
     "metadata": {
      "needs_background": "light"
     },
     "output_type": "display_data"
    }
   ],
   "source": [
    "from scipy import stats\n",
    "X=np.random.rand(20,10)\n",
    "b=np.random.rand(10)\n",
    "z=np.random.standard_normal(20)\n",
    "y=np.dot(X,b)+z\n",
    "bnew = np.linalg.lstsq(X, y,rcond=None)[0]\n",
    "x = np.linspace(1, 10, 10)\n",
    "plt.xlabel('index')\n",
    "plt.ylabel('values')\n",
    "plt.scatter(x,b,marker=\"x\", label=\"true\")\n",
    "plt.scatter(x,bnew,marker=\"o\", label=\"estimated\")\n",
    "plt.legend()"
   ]
  },
  {
   "cell_type": "markdown",
   "id": "0e974ed1",
   "metadata": {},
   "source": [
    "## Exercise 11.3: Histogram and density estimation\n",
    "Generate a vector z of 10000 observations from your favorite exotic distribution. Then make a plot that\n",
    "shows a histogram of z (with 25 bins), along with an estimate for the density, using a Gaussian kernel\n",
    "density estimator (see scipy.stats). See Figure 2 for an example plot."
   ]
  },
  {
   "cell_type": "code",
   "execution_count": 55,
   "id": "d31c2657",
   "metadata": {},
   "outputs": [
    {
     "data": {
      "image/png": "[encoded data removed]",
      "text/plain": [
       "<Figure size 432x288 with 1 Axes>"
      ]
     },
     "metadata": {
      "needs_background": "light"
     },
     "output_type": "display_data"
    }
   ],
   "source": [
    "x = np.hstack(( 2*np.random.randn(10000)+4,  3*np.random.randn(10000)-3) )\n",
    "\n",
    "hist = plt.hist(x,bins=25)"
   ]
  },
  {
   "cell_type": "code",
   "execution_count": 58,
   "id": "001a90c3",
   "metadata": {},
   "outputs": [
    {
     "data": {
      "text/plain": [
       "[<matplotlib.lines.Line2D at 0x1e5ad437e50>]"
      ]
     },
     "execution_count": 58,
     "metadata": {},
     "output_type": "execute_result"
    },
    {
     "data": {
      "image/png": "[encoded data removed]",
      "text/plain": [
       "<Figure size 432x288 with 1 Axes>"
      ]
     },
     "metadata": {
      "needs_background": "light"
     },
     "output_type": "display_data"
    }
   ],
   "source": [
    "kernelest = stats.gaussian_kde(x)\n",
    "counts,bins,_=plt.hist(x,bins=25)\n",
    "x_axis=np.linspace(-10,12,100)\n",
    "plt.plot(x_axis,np.sum(counts)*kernelest(x_axis))"
   ]
  }
 ],
 "metadata": {
  "kernelspec": {
   "display_name": "Python 3 (ipykernel)",
   "language": "python",
   "name": "python3"
  },
  "language_info": {
   "codemirror_mode": {
    "name": "ipython",
    "version": 3
   },
   "file_extension": ".py",
   "mimetype": "text/x-python",
   "name": "python",
   "nbconvert_exporter": "python",
   "pygments_lexer": "ipython3",
   "version": "3.10.2"
  }
 },
 "nbformat": 4,
 "nbformat_minor": 5
}
