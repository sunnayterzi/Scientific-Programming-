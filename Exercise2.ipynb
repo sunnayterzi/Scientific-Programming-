{
 "cells": [
  {
   "cell_type": "markdown",
   "id": "8d8fb136",
   "metadata": {},
   "source": [
    "# 4 Lists"
   ]
  },
  {
   "cell_type": "markdown",
   "id": "697175cc",
   "metadata": {},
   "source": [
    "## Exercise 4.1: Short questions"
   ]
  },
  {
   "cell_type": "code",
   "execution_count": 1,
   "id": "70de24ff",
   "metadata": {},
   "outputs": [
    {
     "name": "stdout",
     "output_type": "stream",
     "text": [
      "[1, 3, 5, 7]\n"
     ]
    }
   ],
   "source": [
    "a=[1,3,5,7]\n",
    "print(a)"
   ]
  },
  {
   "cell_type": "code",
   "execution_count": 9,
   "id": "58159dba",
   "metadata": {},
   "outputs": [
    {
     "name": "stdout",
     "output_type": "stream",
     "text": [
      "[7, 5, 3, 1]\n"
     ]
    }
   ],
   "source": [
    "a=[1,3,5,7]\n",
    "a.reverse()\n",
    "print(a)\n",
    "\n"
   ]
  },
  {
   "cell_type": "code",
   "execution_count": 7,
   "id": "f8602343",
   "metadata": {},
   "outputs": [
    {
     "name": "stdout",
     "output_type": "stream",
     "text": [
      "4\n"
     ]
    }
   ],
   "source": [
    "count=0\n",
    "for i in [1, 5, 9, 12]:\n",
    "    count+=1\n",
    "print(count)"
   ]
  },
  {
   "cell_type": "markdown",
   "id": "832ae02f",
   "metadata": {},
   "source": [
    "## Exercise 4.2: Copying lists"
   ]
  },
  {
   "cell_type": "code",
   "execution_count": 12,
   "id": "c316208c",
   "metadata": {},
   "outputs": [
    {
     "name": "stdout",
     "output_type": "stream",
     "text": [
      "write element of the list 1\n",
      "write element of the list 2\n",
      "write element of the list 3\n",
      "['1', '2', '3']\n"
     ]
    }
   ],
   "source": [
    "a=[]\n",
    "for i in range(3):\n",
    "    element=input(\"write element of the list \")\n",
    "    a.append(element)\n",
    "print(a)"
   ]
  },
  {
   "cell_type": "code",
   "execution_count": 14,
   "id": "fa65cef5",
   "metadata": {},
   "outputs": [
    {
     "data": {
      "text/plain": [
       "['1', '2', '3']"
      ]
     },
     "execution_count": 14,
     "metadata": {},
     "output_type": "execute_result"
    }
   ],
   "source": [
    "b=a\n",
    "b"
   ]
  },
  {
   "cell_type": "code",
   "execution_count": 15,
   "id": "d711f9b6",
   "metadata": {},
   "outputs": [
    {
     "data": {
      "text/plain": [
       "['1', 9, '3']"
      ]
     },
     "execution_count": 15,
     "metadata": {},
     "output_type": "execute_result"
    }
   ],
   "source": [
    "b[1]=9\n",
    "b"
   ]
  },
  {
   "cell_type": "code",
   "execution_count": 20,
   "id": "fc35c49c",
   "metadata": {},
   "outputs": [
    {
     "name": "stdout",
     "output_type": "stream",
     "text": [
      "['1', 9, '3']\n"
     ]
    }
   ],
   "source": [
    "print(a) #the second element in a has also changed"
   ]
  },
  {
   "cell_type": "code",
   "execution_count": 22,
   "id": "c2a0b7b2",
   "metadata": {},
   "outputs": [
    {
     "data": {
      "text/plain": [
       "['1', 9, '3']"
      ]
     },
     "execution_count": 22,
     "metadata": {},
     "output_type": "execute_result"
    }
   ],
   "source": [
    "c = a[:]\n",
    "c"
   ]
  },
  {
   "cell_type": "code",
   "execution_count": 23,
   "id": "e836e04f",
   "metadata": {},
   "outputs": [
    {
     "data": {
      "text/plain": [
       "['1', 9, 96]"
      ]
     },
     "execution_count": 23,
     "metadata": {},
     "output_type": "execute_result"
    }
   ],
   "source": [
    "c[2]=96\n",
    "c"
   ]
  },
  {
   "cell_type": "code",
   "execution_count": 25,
   "id": "3a66fa8d",
   "metadata": {},
   "outputs": [
    {
     "data": {
      "text/plain": [
       "['1', 9, '3']"
      ]
     },
     "execution_count": 25,
     "metadata": {},
     "output_type": "execute_result"
    }
   ],
   "source": [
    "a # no change"
   ]
  },
  {
   "cell_type": "code",
   "execution_count": 29,
   "id": "af0c6df1",
   "metadata": {},
   "outputs": [
    {
     "data": {
      "text/plain": [
       "[0, 9, 7]"
      ]
     },
     "execution_count": 29,
     "metadata": {},
     "output_type": "execute_result"
    }
   ],
   "source": [
    "def set_first_elem_to_zero(l):\n",
    "    l[0]=0\n",
    "    return l\n",
    "\n",
    "a=[1,9,7]\n",
    "set_first_elem_to_zero(a)\n",
    "#the first element of the list has changed\n"
   ]
  },
  {
   "cell_type": "markdown",
   "id": "f8df1cef",
   "metadata": {},
   "source": [
    "## Exercise 4.3: Lists of lists"
   ]
  },
  {
   "cell_type": "code",
   "execution_count": 31,
   "id": "ffc99b1e",
   "metadata": {},
   "outputs": [
    {
     "data": {
      "text/plain": [
       "[[], [], []]"
      ]
     },
     "execution_count": 31,
     "metadata": {},
     "output_type": "execute_result"
    }
   ],
   "source": [
    "a = [[]] * 3\n",
    "a"
   ]
  },
  {
   "cell_type": "code",
   "execution_count": 34,
   "id": "b8afb337",
   "metadata": {},
   "outputs": [
    {
     "data": {
      "text/plain": [
       "[[], [], []]"
      ]
     },
     "execution_count": 34,
     "metadata": {},
     "output_type": "execute_result"
    }
   ],
   "source": [
    "b = [[] for _ in range(3)]\n",
    "b\n",
    "#both are 3-element lists"
   ]
  },
  {
   "cell_type": "markdown",
   "id": "ac81c856",
   "metadata": {},
   "source": [
    "## Exercise 4.4: Lists and functions"
   ]
  },
  {
   "cell_type": "code",
   "execution_count": 36,
   "id": "3370a666",
   "metadata": {},
   "outputs": [
    {
     "data": {
      "text/plain": [
       "[54, 65, 48, 0, 96, 12, 32]"
      ]
     },
     "execution_count": 36,
     "metadata": {},
     "output_type": "execute_result"
    }
   ],
   "source": [
    "def change_elements(l, a):\n",
    "    l[a]=0\n",
    "    return l\n",
    "b=[54, 65, 48, 78, 96, 12, 32]\n",
    "change_elements(b,3)"
   ]
  },
  {
   "cell_type": "markdown",
   "id": "03666c1b",
   "metadata": {},
   "source": [
    "## Exercise 4.5: Primes"
   ]
  },
  {
   "cell_type": "code",
   "execution_count": 37,
   "id": "4cbdcf78",
   "metadata": {},
   "outputs": [
    {
     "data": {
      "text/plain": [
       "[2, 3, 5, 7, 11]"
      ]
     },
     "execution_count": 37,
     "metadata": {},
     "output_type": "execute_result"
    }
   ],
   "source": [
    "def firstn(count):\n",
    "    primes = []\n",
    "\n",
    "    n = 2\n",
    "    while len(primes) != count:\n",
    "        for i in range(2, n // 2 + 1):\n",
    "            if n % i == 0:\n",
    "                break\n",
    "        else:\n",
    "            primes.append(n)\n",
    "        n += 1\n",
    "\n",
    "    return primes\n",
    "firstn(5)"
   ]
  },
  {
   "cell_type": "code",
   "execution_count": 40,
   "id": "b00f0f60",
   "metadata": {},
   "outputs": [
    {
     "data": {
      "text/plain": [
       "[2, 3, 5, 7]"
      ]
     },
     "execution_count": 40,
     "metadata": {},
     "output_type": "execute_result"
    }
   ],
   "source": [
    "def prime(n):\n",
    "    a=[]\n",
    "    for i in range(n):\n",
    "        if i == 0 or i == 1:\n",
    "            continue\n",
    "        else:\n",
    "            for j in range(2, i//2+1):\n",
    "                if i % j == 0:\n",
    "                    break\n",
    "            else:\n",
    "                a.append(i)\n",
    "    return a\n",
    "    \n",
    "prime(10)"
   ]
  },
  {
   "cell_type": "markdown",
   "id": "0bba1549",
   "metadata": {},
   "source": [
    "## Exercise 4.6: List comprehensions"
   ]
  },
  {
   "cell_type": "code",
   "execution_count": 43,
   "id": "dd5f8c6a",
   "metadata": {},
   "outputs": [
    {
     "data": {
      "text/plain": [
       "[(0, 0), (0, 1), (0, 2), (1, 0), (1, 1), (1, 2), (2, 0), (2, 1), (2, 2)]"
      ]
     },
     "execution_count": 43,
     "metadata": {},
     "output_type": "execute_result"
    }
   ],
   "source": [
    "a=[(i,j) for i in range(3) for j in range(3)]\n",
    "a"
   ]
  },
  {
   "cell_type": "code",
   "execution_count": 60,
   "id": "a9916877",
   "metadata": {},
   "outputs": [
    {
     "data": {
      "text/plain": [
       "[(0, 1), (0, 2), (0, 3), (1, 2), (1, 3), (2, 3)]"
      ]
     },
     "execution_count": 60,
     "metadata": {},
     "output_type": "execute_result"
    }
   ],
   "source": [
    "a=[(i,j) for i in range(4) for j in range(4) if i<j]\n",
    "a"
   ]
  },
  {
   "cell_type": "code",
   "execution_count": 61,
   "id": "96d9e4b5",
   "metadata": {},
   "outputs": [
    {
     "data": {
      "text/plain": [
       "[5, 7, 8]"
      ]
     },
     "execution_count": 61,
     "metadata": {},
     "output_type": "execute_result"
    }
   ],
   "source": [
    "def isPrime(x):\n",
    "    if x > 1:\n",
    "        for i in range(2, x):\n",
    "            if x % i == 0:\n",
    "                return False\n",
    "\n",
    "        return True\n",
    "\n",
    "    return False\n",
    "a=[(i+j) for i in range(6) for j in range(6) if i>j if isPrime(i)==True if isPrime(j)==True ]\n",
    "a"
   ]
  },
  {
   "cell_type": "code",
   "execution_count": 144,
   "id": "fcd82606",
   "metadata": {},
   "outputs": [
    {
     "data": {
      "text/plain": [
       "34"
      ]
     },
     "execution_count": 144,
     "metadata": {},
     "output_type": "execute_result"
    }
   ],
   "source": [
    "def poly(x,coef):\n",
    "    equity=coef[0]+coef[1]*x+coef[2]*x**2\n",
    "    return equity\n",
    "coef=[1,2,3]\n",
    "poly(3,coef)"
   ]
  },
  {
   "cell_type": "code",
   "execution_count": 145,
   "id": "55519939",
   "metadata": {},
   "outputs": [
    {
     "data": {
      "text/plain": [
       "34"
      ]
     },
     "execution_count": 145,
     "metadata": {},
     "output_type": "execute_result"
    }
   ],
   "source": [
    "def evalPoly(lst, x):\n",
    "    return sum((x**power) * coeff for power, coeff in enumerate(lst))\n",
    "lst=[1,2,3]\n",
    "evalPoly(lst,3)"
   ]
  },
  {
   "cell_type": "markdown",
   "id": "7bf09f88",
   "metadata": {},
   "source": [
    "## Exercise 4.7: Filter"
   ]
  },
  {
   "cell_type": "code",
   "execution_count": 5,
   "id": "5f29befe",
   "metadata": {},
   "outputs": [
    {
     "name": "stdout",
     "output_type": "stream",
     "text": [
      "['book', 'roof']\n"
     ]
    }
   ],
   "source": [
    "words = ['pen', 'book', 'roof', 'eraser', 'computer', 'phone', 'mirror']\n",
    "\n",
    "myfilter = filter(lambda a: len(a) == 4, words)\n",
    "print(list(myfilter))"
   ]
  },
  {
   "cell_type": "code",
   "execution_count": 7,
   "id": "8c60a45e",
   "metadata": {},
   "outputs": [
    {
     "data": {
      "text/plain": [
       "[2, 4, 6, 8, 10]"
      ]
     },
     "execution_count": 7,
     "metadata": {},
     "output_type": "execute_result"
    }
   ],
   "source": [
    "def myfilter(x):\n",
    "    if x%2==0:\n",
    "        return True\n",
    "    else:\n",
    "        return False\n",
    "\n",
    "mylist= [1,2,3,4,5,6,7,8,9,10]\n",
    "filtered = filter(myfilter, mylist)\n",
    "list(filtered)"
   ]
  },
  {
   "cell_type": "code",
   "execution_count": 11,
   "id": "f5976d6f",
   "metadata": {},
   "outputs": [
    {
     "name": "stdout",
     "output_type": "stream",
     "text": [
      "Common elements ['4', '5', '6']\n"
     ]
    }
   ],
   "source": [
    "list1 = [\"1\",\"2\",\"3\",\"4\",\"5\",\"6\"]\n",
    "list2 = [\"4\",\"5\",\"6\",\"7\",\"8\",\"9\"]\n",
    "\n",
    "def myfilter(list1, list2):\n",
    "    return [n for n in list1 if\n",
    "             any(m in n for m in list2)]\n",
    "\n",
    "print(\"Common elements\",myfilter(list1, list2))"
   ]
  },
  {
   "cell_type": "markdown",
   "id": "0deda892",
   "metadata": {},
   "source": [
    "## Exercise 4.8: Flatten a list of lists"
   ]
  },
  {
   "cell_type": "code",
   "execution_count": 27,
   "id": "07ee61c1",
   "metadata": {},
   "outputs": [
    {
     "data": {
      "text/plain": [
       "[1, 3, 3, 6]"
      ]
     },
     "execution_count": 27,
     "metadata": {},
     "output_type": "execute_result"
    }
   ],
   "source": [
    "data = [[1,3], [3, 6]]\n",
    "flatten = []\n",
    "\n",
    "for i in data:\n",
    "    flatten += i\n",
    "\n",
    "flatten"
   ]
  },
  {
   "cell_type": "code",
   "execution_count": 23,
   "id": "dec22660",
   "metadata": {},
   "outputs": [
    {
     "data": {
      "text/plain": [
       "[1, 3, 3, 6]"
      ]
     },
     "execution_count": 23,
     "metadata": {},
     "output_type": "execute_result"
    }
   ],
   "source": [
    "data = [[1,3], [3,6]]\n",
    "flatten = [i for list in data for i in list]\n",
    "flatten"
   ]
  },
  {
   "cell_type": "markdown",
   "id": "7b892f14",
   "metadata": {},
   "source": [
    "## Exercise 4.9: Finding the longest word"
   ]
  },
  {
   "cell_type": "code",
   "execution_count": 56,
   "id": "86bfa925",
   "metadata": {},
   "outputs": [
    {
     "name": "stdout",
     "output_type": "stream",
     "text": [
      "football\n"
     ]
    }
   ],
   "source": [
    "from string import punctuation\n",
    "\n",
    "sentence = \"Hello, how was the football match earlier today?????????\"\n",
    "for i in punctuation:\n",
    "    sentence = sentence.replace(i, '')\n",
    "\n",
    "longest_word = max(sentence.split(), key=lambda word: len(word))\n",
    "print(longest_word)"
   ]
  },
  {
   "cell_type": "markdown",
   "id": "fc29dc5b",
   "metadata": {},
   "source": [
    "## Exercise 4.10: Collatz sequence, part 2\n"
   ]
  },
  {
   "cell_type": "code",
   "execution_count": 46,
   "id": "c8df5795",
   "metadata": {},
   "outputs": [
    {
     "data": {
      "text/plain": [
       "[9, 28, 14, 7, 22, 11, 34, 17, 52, 26, 13, 40, 20, 10, 5, 16, 8, 4, 2, 1]"
      ]
     },
     "execution_count": 46,
     "metadata": {},
     "output_type": "execute_result"
    }
   ],
   "source": [
    "collatz=[]\n",
    "def sequence(n):\n",
    "    collatz.append(n)\n",
    "    while n!=1:\n",
    "        if n%2==0:\n",
    "            collatz.append(int(n/2))\n",
    "            n=int(n/2)\n",
    "        else:\n",
    "            collatz.append(int(3*n+1))\n",
    "            n=3*n+1\n",
    "    return collatz\n",
    "sequence(9)\n"
   ]
  },
  {
   "cell_type": "code",
   "execution_count": 47,
   "id": "f536cd75",
   "metadata": {},
   "outputs": [
    {
     "data": {
      "text/plain": [
       "9"
      ]
     },
     "execution_count": 47,
     "metadata": {},
     "output_type": "execute_result"
    }
   ],
   "source": [
    "def sequence(n):\n",
    "    collatz=[]\n",
    "    collatz.append(n)\n",
    "    while n!=1:\n",
    "        if n%2==0:\n",
    "            collatz.append(int(n/2))\n",
    "            n=int(n/2)\n",
    "        else:\n",
    "            collatz.append(int(3*n+1))\n",
    "            n=3*n+1\n",
    "    return collatz\n",
    "\n",
    "def max_sequence(n):\n",
    "    max=len(sequence(n))\n",
    "    max_number=n\n",
    "    for i in range(n,1,-1):\n",
    "       \n",
    "        if len(sequence(i))>max:\n",
    "            max=len(sequence(i))\n",
    "            max_number=i\n",
    "            \n",
    "    return max_number\n",
    "    \n",
    "max_sequence(9)\n",
    "        "
   ]
  },
  {
   "cell_type": "markdown",
   "id": "26c0fa90",
   "metadata": {},
   "source": [
    "## Exercise 4.11: Pivots"
   ]
  },
  {
   "cell_type": "code",
   "execution_count": 29,
   "id": "9e540ca3",
   "metadata": {},
   "outputs": [
    {
     "data": {
      "text/plain": [
       "[1, 3, 6, 4, 7]"
      ]
     },
     "execution_count": 29,
     "metadata": {},
     "output_type": "execute_result"
    }
   ],
   "source": [
    "def create_list(x,ys):\n",
    "    smaller=[]\n",
    "    list_size=len(ys)\n",
    "    count=0\n",
    "    while count<list_size:\n",
    "        if ys[count]<x:\n",
    "            smaller.append(ys[count]) \n",
    "        count+=1\n",
    "    for i in ys[:]:\n",
    "        if i in smaller:\n",
    "            ys.remove(i)\n",
    "    ys.insert(0,x)\n",
    "    \n",
    "    return [*smaller,*ys]\n",
    "\n",
    "ys=[6, 4, 1, 7]\n",
    "x=3\n",
    "create_list(x,ys)"
   ]
  },
  {
   "cell_type": "markdown",
   "id": "b7efee5e",
   "metadata": {},
   "source": [
    "## Exercise 4.12: Prime challenge"
   ]
  },
  {
   "cell_type": "code",
   "execution_count": 40,
   "id": "5b10c99c",
   "metadata": {},
   "outputs": [
    {
     "name": "stdout",
     "output_type": "stream",
     "text": [
      "[2, 3, 5, 7, 11, 13, 17, 19, 23, 29, 31, 37, 41, 43, 47]\n"
     ]
    }
   ],
   "source": [
    "n = 50\n",
    "\n",
    "primes = [i for i in range(2, n + 1) if all(i%j != 0 for j in range(2, int(i ** 0.5) + 1))]\n",
    "\n",
    "print(primes)"
   ]
  },
  {
   "cell_type": "code",
   "execution_count": 43,
   "id": "3f2723ae",
   "metadata": {},
   "outputs": [
    {
     "data": {
      "text/plain": [
       "[2, 3, 5, 7, 11, 13, 17, 19]"
      ]
     },
     "execution_count": 43,
     "metadata": {},
     "output_type": "execute_result"
    }
   ],
   "source": [
    "y=20\n",
    "primes=[x for x in range(y+1) if x>1 if all(x % y != 0 for y in range(2, x))]\n",
    "primes"
   ]
  },
  {
   "cell_type": "code",
   "execution_count": 49,
   "id": "8156f713",
   "metadata": {},
   "outputs": [
    {
     "name": "stdout",
     "output_type": "stream",
     "text": [
      "[2, 3, 5, 7, 11, 13, 17, 19, 23, 29, 31, 37, 41, 43, 47]\n"
     ]
    }
   ],
   "source": [
    "n=50\n",
    "l=list(filter(lambda x: not list(filter(lambda y : x%y==0, range(2,x))),range(2,n)))\n",
    "print(l)"
   ]
  },
  {
   "cell_type": "markdown",
   "id": "9e01a5d0",
   "metadata": {},
   "source": [
    "# 5 Tuples"
   ]
  },
  {
   "cell_type": "markdown",
   "id": "f1ee94c0",
   "metadata": {},
   "source": [
    "## Exercise 5.1: Swapping two values"
   ]
  },
  {
   "cell_type": "code",
   "execution_count": 56,
   "id": "ba99b3ac",
   "metadata": {},
   "outputs": [],
   "source": [
    "a, b = b, a"
   ]
  },
  {
   "cell_type": "code",
   "execution_count": 57,
   "id": "16d6d686",
   "metadata": {},
   "outputs": [
    {
     "name": "stdout",
     "output_type": "stream",
     "text": [
      "a değeri 5\n",
      "b değeri 4\n",
      "yeni a değeri 4\n",
      "yeni b değeri 5\n"
     ]
    }
   ],
   "source": [
    "a=5\n",
    "b=4\n",
    "print(\"a değeri\",a)\n",
    "print(\"b değeri\",b)\n",
    "a, b = b, a\n",
    "print(\"yeni a değeri\",a)\n",
    "print(\"yeni b değeri\",b)\n"
   ]
  },
  {
   "cell_type": "markdown",
   "id": "7d60479c",
   "metadata": {},
   "source": [
    "## Exercise 5.2: Zip\n"
   ]
  },
  {
   "cell_type": "code",
   "execution_count": 62,
   "id": "921b3bc5",
   "metadata": {},
   "outputs": [
    {
     "name": "stdout",
     "output_type": "stream",
     "text": [
      "(10, 20)\n",
      "(5, 15)\n",
      "(30, 8)\n"
     ]
    }
   ],
   "source": [
    "x = (10, 5, 30)\n",
    "y = (20, 15, 8)\n",
    "\n",
    "coordinate = zip(x, y)\n",
    "for i in coordinate:\n",
    "    print(i)"
   ]
  },
  {
   "cell_type": "code",
   "execution_count": 63,
   "id": "ff75824a",
   "metadata": {},
   "outputs": [
    {
     "data": {
      "text/plain": [
       "[(10, 20), (5, 15), (30, 8)]"
      ]
     },
     "execution_count": 63,
     "metadata": {},
     "output_type": "execute_result"
    }
   ],
   "source": [
    "x = (10, 5, 30)\n",
    "y = (20, 15, 8)\n",
    "\n",
    "coordinate = zip(x, y)\n",
    "list(coordinate)"
   ]
  },
  {
   "cell_type": "code",
   "execution_count": 70,
   "id": "523af78c",
   "metadata": {},
   "outputs": [
    {
     "name": "stdout",
     "output_type": "stream",
     "text": [
      "(10, 5, 30)\n",
      "(20, 15, 8)\n"
     ]
    }
   ],
   "source": [
    "x = (10, 5, 30)\n",
    "y = (20, 15, 8)\n",
    "\n",
    "coordinate = zip(x, y)\n",
    "a,b=zip(*coordinate)\n",
    "print(a)\n",
    "print(b)"
   ]
  },
  {
   "cell_type": "markdown",
   "id": "83e17814",
   "metadata": {},
   "source": [
    "## Exercise 5.3: Distances"
   ]
  },
  {
   "cell_type": "code",
   "execution_count": 71,
   "id": "bf611adf",
   "metadata": {},
   "outputs": [
    {
     "name": "stdout",
     "output_type": "stream",
     "text": [
      "5.0\n"
     ]
    }
   ],
   "source": [
    "import math\n",
    "p1 = (3,0)\n",
    "p2 = (0,4)\n",
    "distance = math.sqrt( ((p1[0]-p2[0])**2)+((p1[1]-p2[1])**2) )\n",
    "\n",
    "print(distance)"
   ]
  },
  {
   "cell_type": "markdown",
   "id": "9263f633",
   "metadata": {},
   "source": [
    "# 6 Dictionaries\n"
   ]
  },
  {
   "cell_type": "markdown",
   "id": "22c3c053",
   "metadata": {},
   "source": [
    "## Exercise 6.1: Printing a dictionary"
   ]
  },
  {
   "cell_type": "code",
   "execution_count": 74,
   "id": "9204abc4",
   "metadata": {},
   "outputs": [
    {
     "name": "stdout",
     "output_type": "stream",
     "text": [
      "kitap => book\n",
      "kalem => pen\n",
      "telefon => phone\n"
     ]
    }
   ],
   "source": [
    "dictionary={\"kitap\":\"book\",\n",
    "            \"kalem\":\"pen\",\n",
    "             \"telefon\":\"phone\"}\n",
    "for key,value in dictionary.items():\n",
    "    print(key,\"=>\",value)"
   ]
  },
  {
   "cell_type": "markdown",
   "id": "f37a9eae",
   "metadata": {},
   "source": [
    "## Exercise 6.2: Histogram"
   ]
  },
  {
   "cell_type": "code",
   "execution_count": 82,
   "id": "68342002",
   "metadata": {},
   "outputs": [
    {
     "data": {
      "text/plain": [
       "Counter({1: 1, 7: 2, 8: 4, 9: 1})"
      ]
     },
     "execution_count": 82,
     "metadata": {},
     "output_type": "execute_result"
    }
   ],
   "source": [
    "from collections import Counter\n",
    "def withcounter(liste):\n",
    "    cntr=Counter()\n",
    "    for i in liste:\n",
    "        cntr[i]+=1\n",
    "    return cntr\n",
    "liste=[1,7,7,8,9,8,8,8]\n",
    "withcounter(liste)"
   ]
  },
  {
   "cell_type": "code",
   "execution_count": 87,
   "id": "123dacd4",
   "metadata": {},
   "outputs": [
    {
     "data": {
      "text/plain": [
       "Counter({1: 1, 2: 2, 3: 3})"
      ]
     },
     "execution_count": 87,
     "metadata": {},
     "output_type": "execute_result"
    }
   ],
   "source": [
    "from collections import Counter\n",
    "def shortFunc(liste):\n",
    "    return Counter(liste)\n",
    "\n",
    "liste=[1,2,2,3,3,3]\n",
    "shortFunc(liste)"
   ]
  },
  {
   "cell_type": "code",
   "execution_count": 79,
   "id": "df9df93b",
   "metadata": {},
   "outputs": [
    {
     "name": "stdout",
     "output_type": "stream",
     "text": [
      "7 : 2\n",
      "1 : 1\n",
      "5 : 4\n",
      "6 : 1\n"
     ]
    }
   ],
   "source": [
    "def histogram(lista):\n",
    "    histo={}\n",
    "    for i in lista:\n",
    "        if i in histo:\n",
    "            histo[i]+=1\n",
    "        else:\n",
    "            histo[i]=1\n",
    "    for key, value in histo.items():\n",
    "        print(key,\":\",value)\n",
    "lista=[7,1,7,5,5,5,6,5]\n",
    "histogram(lista)"
   ]
  },
  {
   "cell_type": "markdown",
   "id": "c7e436c2",
   "metadata": {},
   "source": [
    "## Exercise 6.3: Get method\n"
   ]
  },
  {
   "cell_type": "code",
   "execution_count": 93,
   "id": "32ccb12b",
   "metadata": {},
   "outputs": [
    {
     "name": "stdout",
     "output_type": "stream",
     "text": [
      "None\n"
     ]
    }
   ],
   "source": [
    "dict={\"kitap\":\"book\",\n",
    "    \"kalem\":\"pen\",\n",
    "    \"telefon\":\"phone\"}\n",
    "print(dict.get(\"not\"))"
   ]
  },
  {
   "cell_type": "code",
   "execution_count": 106,
   "id": "419a842c",
   "metadata": {},
   "outputs": [
    {
     "name": "stdout",
     "output_type": "stream",
     "text": [
      "7 : 2\n",
      "1 : 1\n",
      "5 : 4\n",
      "6 : 1\n"
     ]
    }
   ],
   "source": [
    "def histog(lista):\n",
    "    histo={}\n",
    "    for i in lista:\n",
    "        if histo.get(i)!=None:\n",
    "            histo[i]+=1\n",
    "        else:\n",
    "            histo[i]=1\n",
    "    for key, value in histo.items():\n",
    "        print(key,\":\",value)\n",
    "lista=[7,1,7,5,5,5,6,5]\n",
    "histog(lista)"
   ]
  },
  {
   "cell_type": "markdown",
   "id": "8187bac5",
   "metadata": {},
   "source": [
    "## Exercise 6.5: Vector functions"
   ]
  },
  {
   "cell_type": "code",
   "execution_count": 126,
   "id": "ecbb5eae",
   "metadata": {},
   "outputs": [
    {
     "data": {
      "text/plain": [
       "[3, 6]"
      ]
     },
     "execution_count": 126,
     "metadata": {},
     "output_type": "execute_result"
    }
   ],
   "source": [
    "def vectorFunc(dic):\n",
    "    x=[sum(t) for t in zip(*dic.items())]\n",
    "    return x\n",
    "dic={1:2,2:4}\n",
    "vectorFunc(dic)"
   ]
  },
  {
   "cell_type": "code",
   "execution_count": 127,
   "id": "45da768f",
   "metadata": {},
   "outputs": [
    {
     "name": "stdout",
     "output_type": "stream",
     "text": [
      "1100\n"
     ]
    }
   ],
   "source": [
    "num1 = [2, 4, 6, 8, 10]\n",
    "num2 = [10, 20, 30, 40, 50]\n",
    "\n",
    "print(sum([i*j for (i, j) in zip(num1, num2)]))"
   ]
  },
  {
   "cell_type": "code",
   "execution_count": 141,
   "id": "8d5a00b4",
   "metadata": {},
   "outputs": [
    {
     "data": {
      "text/plain": [
       "14"
      ]
     },
     "execution_count": 141,
     "metadata": {},
     "output_type": "execute_result"
    }
   ],
   "source": [
    "def vectorMul():\n",
    "    x=[1,3]\n",
    "    y=[8,2]\n",
    "    dot_product=0\n",
    "    for i,j in zip(x, y):\n",
    "        dot_product = dot_product + i*j\n",
    "    return dot_product\n",
    "vectorMul()"
   ]
  },
  {
   "cell_type": "code",
   "execution_count": 3,
   "id": "0cddc2c2",
   "metadata": {},
   "outputs": [
    {
     "data": {
      "text/plain": [
       "[1, 0, 7, 5]"
      ]
     },
     "execution_count": 3,
     "metadata": {},
     "output_type": "execute_result"
    }
   ],
   "source": [
    "def sparseAdd():\n",
    "    v1=[0,0,3,5]\n",
    "    v2=[1,0,4,0]\n",
    "    sum=[]\n",
    "    for i in range(len(v1)):\n",
    "        sum.append(v1[i]+v2[i])\n",
    "    return sum\n",
    "sparseAdd()"
   ]
  },
  {
   "cell_type": "code",
   "execution_count": 5,
   "id": "c6d3bf9d",
   "metadata": {},
   "outputs": [
    {
     "data": {
      "text/plain": [
       "[0, 0, 12, 0]"
      ]
     },
     "execution_count": 5,
     "metadata": {},
     "output_type": "execute_result"
    }
   ],
   "source": [
    "def sparseMul():\n",
    "    v1=[0,0,3,5]\n",
    "    v2=[1,0,4,0]\n",
    "    mul=[]\n",
    "    for i in range(len(v1)):\n",
    "        mul.append(v1[i]*v2[i])\n",
    "    return mul\n",
    "sparseMul()\n",
    "    \n",
    "    "
   ]
  },
  {
   "cell_type": "markdown",
   "id": "43256dc4",
   "metadata": {},
   "source": [
    "## Exercise 6.6: Reverse look-up"
   ]
  },
  {
   "cell_type": "markdown",
   "id": "452f468e",
   "metadata": {},
   "source": [
    "Since the keys are unique, there is no problem when searching the dictionary by key. but there is a problem because there can be more than one keys with the same value"
   ]
  },
  {
   "cell_type": "markdown",
   "id": "7504122d",
   "metadata": {},
   "source": [
    "As solution I added all keys with given value to a list and returned the result"
   ]
  },
  {
   "cell_type": "code",
   "execution_count": 117,
   "id": "9f322977",
   "metadata": {},
   "outputs": [
    {
     "data": {
      "text/plain": [
       "[2, 8]"
      ]
     },
     "execution_count": 117,
     "metadata": {},
     "output_type": "execute_result"
    }
   ],
   "source": [
    "def findKeys(dicta, val):\n",
    "    keylist = [key for key, x in dicta.items() if x == val]\n",
    "    return keylist\n",
    "dicta={1:7,2:6,3:5,8:6}\n",
    "findKeys(dicta,6)"
   ]
  },
  {
   "cell_type": "code",
   "execution_count": 121,
   "id": "e01a7546",
   "metadata": {},
   "outputs": [
    {
     "data": {
      "text/plain": [
       "[3]"
      ]
     },
     "execution_count": 121,
     "metadata": {},
     "output_type": "execute_result"
    }
   ],
   "source": [
    "def getkeys(dictiona,val):\n",
    "    keys=[]\n",
    "    for key, value in dictiona.items():\n",
    "         if val == value:\n",
    "                keys.append(key)\n",
    "    return keys\n",
    "dictiona={1:7,2:6,3:5,8:6}\n",
    "findKeys(dictiona,5)"
   ]
  }
 ],
 "metadata": {
  "kernelspec": {
   "display_name": "Python 3 (ipykernel)",
   "language": "python",
   "name": "python3"
  },
  "language_info": {
   "codemirror_mode": {
    "name": "ipython",
    "version": 3
   },
   "file_extension": ".py",
   "mimetype": "text/x-python",
   "name": "python",
   "nbconvert_exporter": "python",
   "pygments_lexer": "ipython3",
   "version": "3.10.2"
  }
 },
 "nbformat": 4,
 "nbformat_minor": 5
}
