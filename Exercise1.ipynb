{
 "cells": [
  {
   "cell_type": "markdown",
   "id": "15838bc0",
   "metadata": {},
   "source": [
    "# 1 Basics"
   ]
  },
  {
   "cell_type": "markdown",
   "id": "046274d0",
   "metadata": {},
   "source": [
    "## 1.1 The Interpreter"
   ]
  },
  {
   "cell_type": "code",
   "execution_count": 1,
   "id": "6e346404",
   "metadata": {},
   "outputs": [
    {
     "data": {
      "text/plain": [
       "4"
      ]
     },
     "execution_count": 1,
     "metadata": {},
     "output_type": "execute_result"
    }
   ],
   "source": [
    "3+1 #summation"
   ]
  },
  {
   "cell_type": "code",
   "execution_count": 2,
   "id": "e2b7219c",
   "metadata": {},
   "outputs": [
    {
     "data": {
      "text/plain": [
       "9"
      ]
     },
     "execution_count": 2,
     "metadata": {},
     "output_type": "execute_result"
    }
   ],
   "source": [
    "3*3 #multiplication"
   ]
  },
  {
   "cell_type": "code",
   "execution_count": 3,
   "id": "9fc61319",
   "metadata": {},
   "outputs": [
    {
     "data": {
      "text/plain": [
       "8"
      ]
     },
     "execution_count": 3,
     "metadata": {},
     "output_type": "execute_result"
    }
   ],
   "source": [
    "2**3 #üs alma"
   ]
  },
  {
   "cell_type": "code",
   "execution_count": 4,
   "id": "1b9950ae",
   "metadata": {},
   "outputs": [
    {
     "data": {
      "text/plain": [
       "'Hello, world!'"
      ]
     },
     "execution_count": 4,
     "metadata": {},
     "output_type": "execute_result"
    }
   ],
   "source": [
    " \"Hello, world!\""
   ]
  },
  {
   "cell_type": "markdown",
   "id": "6e754ea7",
   "metadata": {},
   "source": [
    "## 1.2 Scripts\n",
    "### Only the last line appears in the output. If we do it using print function they all appear."
   ]
  },
  {
   "cell_type": "code",
   "execution_count": 6,
   "id": "09fe68a7",
   "metadata": {},
   "outputs": [
    {
     "data": {
      "text/plain": [
       "'Hello, world!'"
      ]
     },
     "execution_count": 6,
     "metadata": {},
     "output_type": "execute_result"
    }
   ],
   "source": [
    "3 + 1\n",
    "3 * 3\n",
    "2 ** 3\n",
    "\"Hello, world!\""
   ]
  },
  {
   "cell_type": "code",
   "execution_count": 7,
   "id": "1e2216e0",
   "metadata": {},
   "outputs": [
    {
     "name": "stdout",
     "output_type": "stream",
     "text": [
      "4\n",
      "9\n",
      "8\n",
      "Hello, world!\n"
     ]
    }
   ],
   "source": [
    "print(3 + 1)\n",
    "print(3 * 3)\n",
    "print(2 ** 3)\n",
    "print(\"Hello, world!\")"
   ]
  },
  {
   "cell_type": "markdown",
   "id": "612e2ef1",
   "metadata": {},
   "source": [
    "## 1.3 More Interpreters"
   ]
  },
  {
   "cell_type": "code",
   "execution_count": 10,
   "id": "1a6e4288",
   "metadata": {},
   "outputs": [
    {
     "data": {
      "text/plain": [
       "'python'"
      ]
     },
     "execution_count": 10,
     "metadata": {},
     "output_type": "execute_result"
    }
   ],
   "source": [
    "'py' + 'thon' #concatenation"
   ]
  },
  {
   "cell_type": "code",
   "execution_count": 11,
   "id": "ce2b14de",
   "metadata": {},
   "outputs": [
    {
     "data": {
      "text/plain": [
       "'pypypython'"
      ]
     },
     "execution_count": 11,
     "metadata": {},
     "output_type": "execute_result"
    }
   ],
   "source": [
    "'py' * 3 + 'thon' #3*(py)thon"
   ]
  },
  {
   "cell_type": "code",
   "execution_count": 17,
   "id": "30f214f4",
   "metadata": {},
   "outputs": [
    {
     "ename": "TypeError",
     "evalue": "unsupported operand type(s) for -: 'str' and 'str'",
     "output_type": "error",
     "traceback": [
      "\u001b[1;31m---------------------------------------------------------------------------\u001b[0m",
      "\u001b[1;31mTypeError\u001b[0m                                 Traceback (most recent call last)",
      "Input \u001b[1;32mIn [17]\u001b[0m, in \u001b[0;36m<cell line: 1>\u001b[1;34m()\u001b[0m\n\u001b[1;32m----> 1\u001b[0m \u001b[38;5;124;43m'\u001b[39;49m\u001b[38;5;124;43mpy\u001b[39;49m\u001b[38;5;124;43m'\u001b[39;49m\u001b[38;5;241;43m-\u001b[39;49m\u001b[38;5;124;43m'\u001b[39;49m\u001b[38;5;124;43mpy\u001b[39;49m\u001b[38;5;124;43m'\u001b[39;49m\n",
      "\u001b[1;31mTypeError\u001b[0m: unsupported operand type(s) for -: 'str' and 'str'"
     ]
    }
   ],
   "source": [
    "'py'-'py' #unsupported"
   ]
  },
  {
   "cell_type": "code",
   "execution_count": 18,
   "id": "81f6a1a9",
   "metadata": {},
   "outputs": [
    {
     "ename": "TypeError",
     "evalue": "can only concatenate str (not \"int\") to str",
     "output_type": "error",
     "traceback": [
      "\u001b[1;31m---------------------------------------------------------------------------\u001b[0m",
      "\u001b[1;31mTypeError\u001b[0m                                 Traceback (most recent call last)",
      "Input \u001b[1;32mIn [18]\u001b[0m, in \u001b[0;36m<cell line: 1>\u001b[1;34m()\u001b[0m\n\u001b[1;32m----> 1\u001b[0m \u001b[38;5;124;43m'\u001b[39;49m\u001b[38;5;124;43m3\u001b[39;49m\u001b[38;5;124;43m'\u001b[39;49m\u001b[38;5;241;43m+\u001b[39;49m\u001b[38;5;241;43m3\u001b[39;49m\n",
      "\u001b[1;31mTypeError\u001b[0m: can only concatenate str (not \"int\") to str"
     ]
    }
   ],
   "source": [
    "'3'+3 #type mismatching"
   ]
  },
  {
   "cell_type": "code",
   "execution_count": 19,
   "id": "9ae411b3",
   "metadata": {},
   "outputs": [
    {
     "data": {
      "text/plain": [
       "'333'"
      ]
     },
     "execution_count": 19,
     "metadata": {},
     "output_type": "execute_result"
    }
   ],
   "source": [
    " 3 * '3'"
   ]
  },
  {
   "cell_type": "code",
   "execution_count": 20,
   "id": "13eff37f",
   "metadata": {},
   "outputs": [
    {
     "ename": "NameError",
     "evalue": "name 'a' is not defined",
     "output_type": "error",
     "traceback": [
      "\u001b[1;31m---------------------------------------------------------------------------\u001b[0m",
      "\u001b[1;31mNameError\u001b[0m                                 Traceback (most recent call last)",
      "Input \u001b[1;32mIn [20]\u001b[0m, in \u001b[0;36m<cell line: 1>\u001b[1;34m()\u001b[0m\n\u001b[1;32m----> 1\u001b[0m \u001b[43ma\u001b[49m\n",
      "\u001b[1;31mNameError\u001b[0m: name 'a' is not defined"
     ]
    }
   ],
   "source": [
    "a   # a not defined"
   ]
  },
  {
   "cell_type": "code",
   "execution_count": 22,
   "id": "302c23db",
   "metadata": {},
   "outputs": [],
   "source": [
    "a=3"
   ]
  },
  {
   "cell_type": "code",
   "execution_count": 23,
   "id": "8cdab615",
   "metadata": {},
   "outputs": [
    {
     "data": {
      "text/plain": [
       "3"
      ]
     },
     "execution_count": 23,
     "metadata": {},
     "output_type": "execute_result"
    }
   ],
   "source": [
    "a #a is defined in above line"
   ]
  },
  {
   "cell_type": "markdown",
   "id": "e339479e",
   "metadata": {},
   "source": [
    "## 1.4 Booleans"
   ]
  },
  {
   "cell_type": "code",
   "execution_count": 1,
   "id": "647d1b5d",
   "metadata": {},
   "outputs": [
    {
     "data": {
      "text/plain": [
       "True"
      ]
     },
     "execution_count": 1,
     "metadata": {},
     "output_type": "execute_result"
    }
   ],
   "source": [
    "1 == 1"
   ]
  },
  {
   "cell_type": "code",
   "execution_count": 2,
   "id": "981e046c",
   "metadata": {},
   "outputs": [
    {
     "data": {
      "text/plain": [
       "True"
      ]
     },
     "execution_count": 2,
     "metadata": {},
     "output_type": "execute_result"
    }
   ],
   "source": [
    "1 == True"
   ]
  },
  {
   "cell_type": "code",
   "execution_count": 3,
   "id": "170e494b",
   "metadata": {},
   "outputs": [
    {
     "data": {
      "text/plain": [
       "False"
      ]
     },
     "execution_count": 3,
     "metadata": {},
     "output_type": "execute_result"
    }
   ],
   "source": [
    "0 == True #0 is false"
   ]
  },
  {
   "cell_type": "code",
   "execution_count": 4,
   "id": "82bf244b",
   "metadata": {},
   "outputs": [
    {
     "data": {
      "text/plain": [
       "True"
      ]
     },
     "execution_count": 4,
     "metadata": {},
     "output_type": "execute_result"
    }
   ],
   "source": [
    "0 == False"
   ]
  },
  {
   "cell_type": "code",
   "execution_count": 5,
   "id": "8f978139",
   "metadata": {},
   "outputs": [
    {
     "data": {
      "text/plain": [
       "True"
      ]
     },
     "execution_count": 5,
     "metadata": {},
     "output_type": "execute_result"
    }
   ],
   "source": [
    "3 == 1 * 3"
   ]
  },
  {
   "cell_type": "code",
   "execution_count": 8,
   "id": "37f533a1",
   "metadata": {},
   "outputs": [
    {
     "data": {
      "text/plain": [
       "0"
      ]
     },
     "execution_count": 8,
     "metadata": {},
     "output_type": "execute_result"
    }
   ],
   "source": [
    "(3 == 1) * 3 # false==0 then 0*3=0"
   ]
  },
  {
   "cell_type": "code",
   "execution_count": 9,
   "id": "a0a0653a",
   "metadata": {},
   "outputs": [
    {
     "data": {
      "text/plain": [
       "False"
      ]
     },
     "execution_count": 9,
     "metadata": {},
     "output_type": "execute_result"
    }
   ],
   "source": [
    "(3 == 3) * 4 + 3 == 1  # true==1 then 1*4+3=7 7!=1 then False"
   ]
  },
  {
   "cell_type": "code",
   "execution_count": 10,
   "id": "582480e0",
   "metadata": {},
   "outputs": [
    {
     "data": {
      "text/plain": [
       "False"
      ]
     },
     "execution_count": 10,
     "metadata": {},
     "output_type": "execute_result"
    }
   ],
   "source": [
    "3**5 >= 4**4"
   ]
  },
  {
   "cell_type": "markdown",
   "id": "9fa15811",
   "metadata": {},
   "source": [
    "## 1.5: Integers\n"
   ]
  },
  {
   "cell_type": "code",
   "execution_count": 13,
   "id": "2688d64f",
   "metadata": {},
   "outputs": [
    {
     "data": {
      "text/plain": [
       "1.6666666666666667"
      ]
     },
     "execution_count": 13,
     "metadata": {},
     "output_type": "execute_result"
    }
   ],
   "source": [
    "5 / 3 # float"
   ]
  },
  {
   "cell_type": "code",
   "execution_count": 15,
   "id": "0b06b2ec",
   "metadata": {},
   "outputs": [
    {
     "data": {
      "text/plain": [
       "2"
      ]
     },
     "execution_count": 15,
     "metadata": {},
     "output_type": "execute_result"
    }
   ],
   "source": [
    "5 % 3 #remainder"
   ]
  },
  {
   "cell_type": "code",
   "execution_count": 16,
   "id": "767313b6",
   "metadata": {},
   "outputs": [
    {
     "data": {
      "text/plain": [
       "1.6666666666666667"
      ]
     },
     "execution_count": 16,
     "metadata": {},
     "output_type": "execute_result"
    }
   ],
   "source": [
    "5.0 / 3"
   ]
  },
  {
   "cell_type": "code",
   "execution_count": 17,
   "id": "a0314dad",
   "metadata": {},
   "outputs": [
    {
     "data": {
      "text/plain": [
       "1.6666666666666667"
      ]
     },
     "execution_count": 17,
     "metadata": {},
     "output_type": "execute_result"
    }
   ],
   "source": [
    " 5 / 3.0"
   ]
  },
  {
   "cell_type": "code",
   "execution_count": 18,
   "id": "21ad9d8a",
   "metadata": {},
   "outputs": [
    {
     "data": {
      "text/plain": [
       "2.2"
      ]
     },
     "execution_count": 18,
     "metadata": {},
     "output_type": "execute_result"
    }
   ],
   "source": [
    "5.2 % 3"
   ]
  },
  {
   "cell_type": "code",
   "execution_count": 20,
   "id": "032cbc16",
   "metadata": {},
   "outputs": [
    {
     "data": {
      "text/plain": [
       "1775896810483121914350934797871501063452843428843794422323202530887281536545210629921129898113201749875234297340507804201761453596034016264189501186924066128377025843892373608427790859511135990682732202975330824797118808624727351608183194154557208730494440110429635650057431833674286462463508755276302896154336475782768613964332764108132533925570342220340698973761380541294970139762186212823359128790706292900765512137078550033912252338262922477518858757114840012576514724742388124595061301502222934806074032688691170880996881967426442947828261057852871032366879179996122216385870273020506079240103910728766397733398071775041745854959302025036249707279600400001"
      ]
     },
     "execution_count": 20,
     "metadata": {},
     "output_type": "execute_result"
    }
   ],
   "source": [
    "2001 ** 200 #exponential"
   ]
  },
  {
   "cell_type": "markdown",
   "id": "4a1ea360",
   "metadata": {},
   "source": [
    "## 1.6: Floats"
   ]
  },
  {
   "cell_type": "code",
   "execution_count": 23,
   "id": "ccfd8a79",
   "metadata": {},
   "outputs": [
    {
     "ename": "OverflowError",
     "evalue": "(34, 'Result too large')",
     "output_type": "error",
     "traceback": [
      "\u001b[1;31m---------------------------------------------------------------------------\u001b[0m",
      "\u001b[1;31mOverflowError\u001b[0m                             Traceback (most recent call last)",
      "Input \u001b[1;32mIn [23]\u001b[0m, in \u001b[0;36m<cell line: 1>\u001b[1;34m()\u001b[0m\n\u001b[1;32m----> 1\u001b[0m \u001b[38;5;241;43m2000.3\u001b[39;49m\u001b[43m \u001b[49m\u001b[38;5;241;43m*\u001b[39;49m\u001b[38;5;241;43m*\u001b[39;49m\u001b[43m \u001b[49m\u001b[38;5;241;43m200\u001b[39;49m\n",
      "\u001b[1;31mOverflowError\u001b[0m: (34, 'Result too large')"
     ]
    }
   ],
   "source": [
    "2000.3 ** 200 # result too large because of float"
   ]
  },
  {
   "cell_type": "code",
   "execution_count": 24,
   "id": "ffa40d5f",
   "metadata": {},
   "outputs": [
    {
     "data": {
      "text/plain": [
       "1.0"
      ]
     },
     "execution_count": 24,
     "metadata": {},
     "output_type": "execute_result"
    }
   ],
   "source": [
    "1.0 + 1.0 - 1.0"
   ]
  },
  {
   "cell_type": "code",
   "execution_count": 25,
   "id": "1a476a46",
   "metadata": {},
   "outputs": [
    {
     "data": {
      "text/plain": [
       "0.0"
      ]
     },
     "execution_count": 25,
     "metadata": {},
     "output_type": "execute_result"
    }
   ],
   "source": [
    "1.0 + 1.0e20 - 1.0e20"
   ]
  },
  {
   "cell_type": "markdown",
   "id": "a66642e9",
   "metadata": {},
   "source": [
    "## 1.7: Variables"
   ]
  },
  {
   "cell_type": "code",
   "execution_count": 30,
   "id": "487d11e8",
   "metadata": {},
   "outputs": [
    {
     "data": {
      "text/plain": [
       "'Hello, Sunay Terzi!'"
      ]
     },
     "execution_count": 30,
     "metadata": {},
     "output_type": "execute_result"
    }
   ],
   "source": [
    "name= \"Sunay Terzi\"\n",
    "\"Hello, \"+name+\"!\""
   ]
  },
  {
   "cell_type": "markdown",
   "id": "bcb67ba4",
   "metadata": {},
   "source": [
    "## 1.8: Type casting\n"
   ]
  },
  {
   "cell_type": "code",
   "execution_count": 31,
   "id": "c809b80f",
   "metadata": {},
   "outputs": [
    {
     "data": {
      "text/plain": [
       "123.0"
      ]
     },
     "execution_count": 31,
     "metadata": {},
     "output_type": "execute_result"
    }
   ],
   "source": [
    "float(123)"
   ]
  },
  {
   "cell_type": "code",
   "execution_count": 33,
   "id": "41e86041",
   "metadata": {},
   "outputs": [
    {
     "data": {
      "text/plain": [
       "123.0"
      ]
     },
     "execution_count": 33,
     "metadata": {},
     "output_type": "execute_result"
    }
   ],
   "source": [
    "float('123') #convert to float"
   ]
  },
  {
   "cell_type": "code",
   "execution_count": 34,
   "id": "96cb58ad",
   "metadata": {},
   "outputs": [
    {
     "data": {
      "text/plain": [
       "123.23"
      ]
     },
     "execution_count": 34,
     "metadata": {},
     "output_type": "execute_result"
    }
   ],
   "source": [
    "float('123.23')"
   ]
  },
  {
   "cell_type": "code",
   "execution_count": 35,
   "id": "bb32300a",
   "metadata": {},
   "outputs": [
    {
     "data": {
      "text/plain": [
       "123"
      ]
     },
     "execution_count": 35,
     "metadata": {},
     "output_type": "execute_result"
    }
   ],
   "source": [
    "int(123.23) #convert to int"
   ]
  },
  {
   "cell_type": "code",
   "execution_count": 36,
   "id": "2999f7d3",
   "metadata": {},
   "outputs": [
    {
     "ename": "ValueError",
     "evalue": "invalid literal for int() with base 10: '123.23'",
     "output_type": "error",
     "traceback": [
      "\u001b[1;31m---------------------------------------------------------------------------\u001b[0m",
      "\u001b[1;31mValueError\u001b[0m                                Traceback (most recent call last)",
      "Input \u001b[1;32mIn [36]\u001b[0m, in \u001b[0;36m<cell line: 1>\u001b[1;34m()\u001b[0m\n\u001b[1;32m----> 1\u001b[0m \u001b[38;5;28;43mint\u001b[39;49m\u001b[43m(\u001b[49m\u001b[38;5;124;43m'\u001b[39;49m\u001b[38;5;124;43m123.23\u001b[39;49m\u001b[38;5;124;43m'\u001b[39;49m\u001b[43m)\u001b[49m\n",
      "\u001b[1;31mValueError\u001b[0m: invalid literal for int() with base 10: '123.23'"
     ]
    }
   ],
   "source": [
    "int('123.23') #error because of quotes"
   ]
  },
  {
   "cell_type": "code",
   "execution_count": 37,
   "id": "38146ad5",
   "metadata": {},
   "outputs": [
    {
     "data": {
      "text/plain": [
       "123"
      ]
     },
     "execution_count": 37,
     "metadata": {},
     "output_type": "execute_result"
    }
   ],
   "source": [
    "int(float('123.23'))"
   ]
  },
  {
   "cell_type": "code",
   "execution_count": 38,
   "id": "a4787b80",
   "metadata": {},
   "outputs": [
    {
     "data": {
      "text/plain": [
       "'12'"
      ]
     },
     "execution_count": 38,
     "metadata": {},
     "output_type": "execute_result"
    }
   ],
   "source": [
    "str(12)"
   ]
  },
  {
   "cell_type": "code",
   "execution_count": 39,
   "id": "5a182a1d",
   "metadata": {},
   "outputs": [
    {
     "data": {
      "text/plain": [
       "'12.2'"
      ]
     },
     "execution_count": 39,
     "metadata": {},
     "output_type": "execute_result"
    }
   ],
   "source": [
    "str(12.2)"
   ]
  },
  {
   "cell_type": "code",
   "execution_count": 40,
   "id": "23491a41",
   "metadata": {},
   "outputs": [
    {
     "data": {
      "text/plain": [
       "True"
      ]
     },
     "execution_count": 40,
     "metadata": {},
     "output_type": "execute_result"
    }
   ],
   "source": [
    "bool('a')"
   ]
  },
  {
   "cell_type": "code",
   "execution_count": 41,
   "id": "90af9c85",
   "metadata": {},
   "outputs": [
    {
     "data": {
      "text/plain": [
       "False"
      ]
     },
     "execution_count": 41,
     "metadata": {},
     "output_type": "execute_result"
    }
   ],
   "source": [
    "bool(0)"
   ]
  },
  {
   "cell_type": "code",
   "execution_count": 42,
   "id": "e0da44c3",
   "metadata": {},
   "outputs": [
    {
     "data": {
      "text/plain": [
       "True"
      ]
     },
     "execution_count": 42,
     "metadata": {},
     "output_type": "execute_result"
    }
   ],
   "source": [
    "bool(0.1)"
   ]
  },
  {
   "cell_type": "markdown",
   "id": "4d3c6b97",
   "metadata": {},
   "source": [
    "# 2 Control Flow"
   ]
  },
  {
   "cell_type": "markdown",
   "id": "a7019410",
   "metadata": {},
   "source": [
    "## 2.1: Range"
   ]
  },
  {
   "cell_type": "code",
   "execution_count": 44,
   "id": "da07a40e",
   "metadata": {},
   "outputs": [
    {
     "data": {
      "text/plain": [
       "range(0, 5)"
      ]
     },
     "execution_count": 44,
     "metadata": {},
     "output_type": "execute_result"
    }
   ],
   "source": [
    "range(5) # it is a range between 0 and 5"
   ]
  },
  {
   "cell_type": "code",
   "execution_count": 47,
   "id": "e01e65e4",
   "metadata": {},
   "outputs": [
    {
     "name": "stdout",
     "output_type": "stream",
     "text": [
      "0\n",
      "1\n",
      "2\n",
      "3\n",
      "4\n"
     ]
    }
   ],
   "source": [
    "for i in range(5): # it creates a loop between 0 and 5\n",
    "    print(i)"
   ]
  },
  {
   "cell_type": "code",
   "execution_count": 48,
   "id": "d6641553",
   "metadata": {},
   "outputs": [
    {
     "data": {
      "text/plain": [
       "range"
      ]
     },
     "execution_count": 48,
     "metadata": {},
     "output_type": "execute_result"
    }
   ],
   "source": [
    "type(range(5))"
   ]
  },
  {
   "cell_type": "markdown",
   "id": "c8a197fd",
   "metadata": {},
   "source": [
    "## 2.2: For loops"
   ]
  },
  {
   "cell_type": "code",
   "execution_count": 49,
   "id": "1f9b24c9",
   "metadata": {},
   "outputs": [
    {
     "name": "stdout",
     "output_type": "stream",
     "text": [
      "0\n",
      "1\n",
      "2\n",
      "3\n",
      "4\n",
      "5\n",
      "6\n",
      "7\n",
      "8\n",
      "9\n",
      "10\n",
      "11\n",
      "12\n",
      "13\n",
      "14\n",
      "15\n",
      "16\n",
      "17\n",
      "18\n",
      "19\n",
      "20\n",
      "21\n",
      "22\n",
      "23\n",
      "24\n",
      "25\n",
      "26\n",
      "27\n",
      "28\n",
      "29\n",
      "30\n",
      "31\n",
      "32\n",
      "33\n",
      "34\n",
      "35\n",
      "36\n",
      "37\n",
      "38\n",
      "39\n",
      "40\n",
      "41\n",
      "42\n",
      "43\n",
      "44\n",
      "45\n",
      "46\n",
      "47\n",
      "48\n",
      "49\n",
      "50\n",
      "51\n",
      "52\n",
      "53\n",
      "54\n",
      "55\n",
      "56\n",
      "57\n",
      "58\n",
      "59\n",
      "60\n",
      "61\n",
      "62\n",
      "63\n",
      "64\n",
      "65\n",
      "66\n",
      "67\n",
      "68\n",
      "69\n",
      "70\n",
      "71\n",
      "72\n",
      "73\n",
      "74\n",
      "75\n",
      "76\n",
      "77\n",
      "78\n",
      "79\n",
      "80\n",
      "81\n",
      "82\n",
      "83\n",
      "84\n",
      "85\n",
      "86\n",
      "87\n",
      "88\n",
      "89\n",
      "90\n",
      "91\n",
      "92\n",
      "93\n",
      "94\n",
      "95\n",
      "96\n",
      "97\n",
      "98\n",
      "99\n"
     ]
    }
   ],
   "source": [
    "for i in range(100): \n",
    "    print(i)"
   ]
  },
  {
   "cell_type": "code",
   "execution_count": 50,
   "id": "ef0ec7f7",
   "metadata": {},
   "outputs": [
    {
     "name": "stdout",
     "output_type": "stream",
     "text": [
      "0\n",
      "7\n",
      "14\n",
      "21\n",
      "28\n",
      "35\n",
      "42\n",
      "49\n",
      "56\n",
      "63\n",
      "70\n",
      "77\n",
      "84\n",
      "91\n",
      "98\n"
     ]
    }
   ],
   "source": [
    "for i in range(100):\n",
    "    if(i%7==0):\n",
    "        print(i)"
   ]
  },
  {
   "cell_type": "code",
   "execution_count": 52,
   "id": "ad80d341",
   "metadata": {},
   "outputs": [
    {
     "name": "stdout",
     "output_type": "stream",
     "text": [
      "5\n",
      "10\n",
      "20\n",
      "25\n",
      "35\n",
      "40\n",
      "50\n",
      "55\n",
      "65\n",
      "70\n",
      "80\n",
      "85\n",
      "95\n"
     ]
    }
   ],
   "source": [
    "for i in range(1,100):\n",
    "    if(i%5==0 and i%3!=0):\n",
    "        print(i)"
   ]
  },
  {
   "cell_type": "code",
   "execution_count": 53,
   "id": "b9b44186",
   "metadata": {},
   "outputs": [
    {
     "name": "stdout",
     "output_type": "stream",
     "text": [
      "2\n",
      "3\n",
      "6\n",
      "9\n"
     ]
    }
   ],
   "source": [
    "for x in range(2,18):\n",
    "    if 18%x==0:\n",
    "        print(x)"
   ]
  },
  {
   "cell_type": "markdown",
   "id": "387d70ea",
   "metadata": {},
   "source": [
    "## 2.3: Simple while loops"
   ]
  },
  {
   "cell_type": "code",
   "execution_count": 55,
   "id": "25088466",
   "metadata": {},
   "outputs": [
    {
     "name": "stdout",
     "output_type": "stream",
     "text": [
      "0\n",
      "1\n",
      "2\n",
      "3\n",
      "4\n",
      "5\n",
      "6\n",
      "7\n",
      "8\n",
      "9\n",
      "10\n",
      "11\n",
      "12\n",
      "13\n",
      "14\n",
      "15\n",
      "16\n",
      "17\n",
      "18\n",
      "19\n",
      "20\n",
      "21\n",
      "22\n",
      "23\n",
      "24\n",
      "25\n",
      "26\n",
      "27\n",
      "28\n",
      "29\n",
      "30\n",
      "31\n",
      "32\n",
      "33\n",
      "34\n",
      "35\n",
      "36\n",
      "37\n",
      "38\n",
      "39\n",
      "40\n",
      "41\n",
      "42\n",
      "43\n",
      "44\n",
      "45\n",
      "46\n",
      "47\n",
      "48\n",
      "49\n",
      "50\n",
      "51\n",
      "52\n",
      "53\n",
      "54\n",
      "55\n",
      "56\n",
      "57\n",
      "58\n",
      "59\n",
      "60\n",
      "61\n",
      "62\n",
      "63\n",
      "64\n",
      "65\n",
      "66\n",
      "67\n",
      "68\n",
      "69\n",
      "70\n",
      "71\n",
      "72\n",
      "73\n",
      "74\n",
      "75\n",
      "76\n",
      "77\n",
      "78\n",
      "79\n",
      "80\n",
      "81\n",
      "82\n",
      "83\n",
      "84\n",
      "85\n",
      "86\n",
      "87\n",
      "88\n",
      "89\n",
      "90\n",
      "91\n",
      "92\n",
      "93\n",
      "94\n",
      "95\n",
      "96\n",
      "97\n",
      "98\n",
      "99\n"
     ]
    }
   ],
   "source": [
    "i=0\n",
    "while i<100:\n",
    "    print(i)\n",
    "    i+=1"
   ]
  },
  {
   "cell_type": "code",
   "execution_count": 57,
   "id": "6b5f6009",
   "metadata": {},
   "outputs": [
    {
     "name": "stdout",
     "output_type": "stream",
     "text": [
      "0\n",
      "7\n",
      "14\n",
      "21\n",
      "28\n",
      "35\n",
      "42\n",
      "49\n",
      "56\n",
      "63\n",
      "70\n",
      "77\n",
      "84\n",
      "91\n",
      "98\n"
     ]
    }
   ],
   "source": [
    "i=0\n",
    "while i<100:\n",
    "    if(i%7==0):\n",
    "        print(i)\n",
    "    i+=1"
   ]
  },
  {
   "cell_type": "markdown",
   "id": "70d759c4",
   "metadata": {},
   "source": [
    "## 2.5: While loops"
   ]
  },
  {
   "cell_type": "code",
   "execution_count": 59,
   "id": "20a980f0",
   "metadata": {},
   "outputs": [
    {
     "name": "stdout",
     "output_type": "stream",
     "text": [
      "385\n",
      "770\n",
      "1155\n",
      "1540\n",
      "1925\n",
      "2310\n",
      "2695\n",
      "3080\n",
      "3465\n",
      "3850\n",
      "4235\n",
      "4620\n",
      "5005\n",
      "5390\n",
      "5775\n",
      "6160\n",
      "6545\n",
      "6930\n",
      "7315\n",
      "7700\n"
     ]
    }
   ],
   "source": [
    "number_found = 0\n",
    "x = 11\n",
    "while number_found < 20:\n",
    "    if x%5==0 and x%7==0 and x%11==0:\n",
    "        print(x)\n",
    "        number_found+=1\n",
    "    x+=1"
   ]
  },
  {
   "cell_type": "markdown",
   "id": "7ff02b03",
   "metadata": {},
   "source": [
    "## 2.6: More while loops"
   ]
  },
  {
   "cell_type": "code",
   "execution_count": 5,
   "id": "4930726b",
   "metadata": {},
   "outputs": [
    {
     "name": "stdout",
     "output_type": "stream",
     "text": [
      "2520\n"
     ]
    }
   ],
   "source": [
    "n = 1\n",
    "for i in range(1, 11):\n",
    "    for j in range(1, 11):\n",
    "        if (n * j) % i == 0:\n",
    "            n *= j\n",
    "            break\n",
    "print(n) "
   ]
  },
  {
   "cell_type": "code",
   "execution_count": 11,
   "id": "85582e9f",
   "metadata": {},
   "outputs": [
    {
     "data": {
      "text/plain": [
       "2520"
      ]
     },
     "execution_count": 11,
     "metadata": {},
     "output_type": "execute_result"
    }
   ],
   "source": [
    "import math\n",
    "\n",
    "n = 1\n",
    "i=1\n",
    "while i<11:\n",
    "    n = int((n * i)/math.gcd(n, i))\n",
    "    i+=1\n",
    "n"
   ]
  },
  {
   "cell_type": "markdown",
   "id": "aef5c2f3",
   "metadata": {},
   "source": [
    "## 2.7: Collatz sequence"
   ]
  },
  {
   "cell_type": "code",
   "execution_count": 18,
   "id": "d0e37c71",
   "metadata": {},
   "outputs": [
    {
     "name": "stdout",
     "output_type": "stream",
     "text": [
      "103\n",
      "310\n",
      "155\n",
      "466\n",
      "233\n",
      "700\n",
      "350\n",
      "175\n",
      "526\n",
      "263\n",
      "790\n",
      "395\n",
      "1186\n",
      "593\n",
      "1780\n",
      "890\n",
      "445\n",
      "1336\n",
      "668\n",
      "334\n",
      "167\n",
      "502\n",
      "251\n",
      "754\n",
      "377\n",
      "1132\n",
      "566\n",
      "283\n",
      "850\n",
      "425\n",
      "1276\n",
      "638\n",
      "319\n",
      "958\n",
      "479\n",
      "1438\n",
      "719\n",
      "2158\n",
      "1079\n",
      "3238\n",
      "1619\n",
      "4858\n",
      "2429\n",
      "7288\n",
      "3644\n",
      "1822\n",
      "911\n",
      "2734\n",
      "1367\n",
      "4102\n",
      "2051\n",
      "6154\n",
      "3077\n",
      "9232\n",
      "4616\n",
      "2308\n",
      "1154\n",
      "577\n",
      "1732\n",
      "866\n",
      "433\n",
      "1300\n",
      "650\n",
      "325\n",
      "976\n",
      "488\n",
      "244\n",
      "122\n",
      "61\n",
      "184\n",
      "92\n",
      "46\n",
      "23\n",
      "70\n",
      "35\n",
      "106\n",
      "53\n",
      "160\n",
      "80\n",
      "40\n",
      "20\n",
      "10\n",
      "5\n",
      "16\n",
      "8\n",
      "4\n",
      "2\n",
      "1\n"
     ]
    }
   ],
   "source": [
    "i=103\n",
    "print(i)\n",
    "while i!=1:\n",
    "    if i%2==0:\n",
    "        print(int(i/2))\n",
    "        i=i/2\n",
    "    else:\n",
    "        print(int(3*i+1))\n",
    "        i=3*i+1\n",
    "    "
   ]
  },
  {
   "cell_type": "markdown",
   "id": "d2be1f61",
   "metadata": {},
   "source": [
    "# 3  Functions"
   ]
  },
  {
   "cell_type": "markdown",
   "id": "4bb30ac1",
   "metadata": {},
   "source": [
    "## 3.1: Hello"
   ]
  },
  {
   "cell_type": "code",
   "execution_count": 20,
   "id": "935dd1ff",
   "metadata": {},
   "outputs": [
    {
     "name": "stdout",
     "output_type": "stream",
     "text": [
      "Hello, World!\n"
     ]
    }
   ],
   "source": [
    "def hello():\n",
    "    print(\"Hello, World!\")\n",
    "hello()"
   ]
  },
  {
   "cell_type": "code",
   "execution_count": 22,
   "id": "3ee029e5",
   "metadata": {},
   "outputs": [
    {
     "name": "stdout",
     "output_type": "stream",
     "text": [
      "Hello, Sunay!\n"
     ]
    }
   ],
   "source": [
    "def hello_name(name):\n",
    "    print(\"Hello, \" + name)\n",
    "hello_name(\"Sunay!\")"
   ]
  },
  {
   "cell_type": "markdown",
   "id": "a9619f26",
   "metadata": {},
   "source": [
    "Print is a function. Printing means displaying a value in the console. Use print when you want to show a value to a human.\n",
    "\n",
    "Return is a keyword. When a return statement is reached, Python will stop the execution of the current function, sending a value out to where the function was called. Use return when you want to send a value from one point in your code to another.\n",
    "\n",
    "Using return changes the flow of the program. Using print does not."
   ]
  },
  {
   "cell_type": "markdown",
   "id": "2674652b",
   "metadata": {},
   "source": [
    "##  3.2: Polynomial"
   ]
  },
  {
   "cell_type": "code",
   "execution_count": 26,
   "id": "ef86ff1f",
   "metadata": {},
   "outputs": [
    {
     "data": {
      "text/plain": [
       "12"
      ]
     },
     "execution_count": 26,
     "metadata": {},
     "output_type": "execute_result"
    }
   ],
   "source": [
    "def poly(x):\n",
    "    return 3*x**2-x + 2\n",
    "poly(2)"
   ]
  },
  {
   "cell_type": "markdown",
   "id": "219f50cf",
   "metadata": {},
   "source": [
    "## 3.3: Maximum"
   ]
  },
  {
   "cell_type": "code",
   "execution_count": 28,
   "id": "9f108dd2",
   "metadata": {},
   "outputs": [
    {
     "data": {
      "text/plain": [
       "15"
      ]
     },
     "execution_count": 28,
     "metadata": {},
     "output_type": "execute_result"
    }
   ],
   "source": [
    "def my_max(x, y):\n",
    "    if x>y:\n",
    "        return x\n",
    "    else:\n",
    "        return y\n",
    "my_max(15,10)"
   ]
  },
  {
   "cell_type": "code",
   "execution_count": 35,
   "id": "01a8869e",
   "metadata": {},
   "outputs": [
    {
     "data": {
      "text/plain": [
       "10"
      ]
     },
     "execution_count": 35,
     "metadata": {},
     "output_type": "execute_result"
    }
   ],
   "source": [
    "def my_max(x, y):\n",
    "    if x>y:\n",
    "        return x\n",
    "    if y>x:\n",
    "        return y\n",
    "my_max(5,10)"
   ]
  },
  {
   "cell_type": "markdown",
   "id": "4da60449",
   "metadata": {},
   "source": [
    "## 3.4: Primes"
   ]
  },
  {
   "cell_type": "code",
   "execution_count": 7,
   "id": "ade1a65a",
   "metadata": {},
   "outputs": [
    {
     "data": {
      "text/plain": [
       "False"
      ]
     },
     "execution_count": 7,
     "metadata": {},
     "output_type": "execute_result"
    }
   ],
   "source": [
    "def isPrime(x):\n",
    "    if x > 1:\n",
    "        for i in range(2, x):\n",
    "            if x % i == 0:\n",
    "                return False\n",
    "\n",
    "        return True\n",
    "\n",
    "    return False\n",
    "isPrime(10)"
   ]
  },
  {
   "cell_type": "code",
   "execution_count": 11,
   "id": "b2627e35",
   "metadata": {},
   "outputs": [
    {
     "data": {
      "text/plain": [
       "True"
      ]
     },
     "execution_count": 11,
     "metadata": {},
     "output_type": "execute_result"
    }
   ],
   "source": [
    "def is_prime(n):\n",
    "    if n == 2: return True\n",
    "    if n == 3: return True\n",
    "    if n % 2 == 0: return False\n",
    "    if n % 3 == 0: return False\n",
    "    i = 5\n",
    "    w = 2\n",
    "    sqr=int(n**.5)+1\n",
    "    while i <= sqr:\n",
    "        if n % i == 0:\n",
    "            return False    \n",
    "        i += w\n",
    "        w = 6 - w    \n",
    "    return True\n",
    "is_prime(2)"
   ]
  },
  {
   "cell_type": "code",
   "execution_count": 7,
   "id": "3651d478",
   "metadata": {},
   "outputs": [
    {
     "name": "stdout",
     "output_type": "stream",
     "text": [
      "2\n",
      "3\n",
      "5\n",
      "7\n"
     ]
    }
   ],
   "source": [
    "def prime(n):\n",
    "    for i in range(n):\n",
    "        if i == 0 or i == 1:\n",
    "            continue\n",
    "        else:\n",
    "            for j in range(2, i//2+1):\n",
    "                if i % j == 0:\n",
    "                    break\n",
    "            else:\n",
    "                print(i)\n",
    "    \n",
    "prime(10)"
   ]
  },
  {
   "cell_type": "code",
   "execution_count": 9,
   "id": "5d29dec4",
   "metadata": {},
   "outputs": [
    {
     "name": "stdout",
     "output_type": "stream",
     "text": [
      "2 3 5 7 "
     ]
    }
   ],
   "source": [
    "def prime(n):\n",
    "    for i in range(1,n+1):\n",
    "        if(isPrime(i)):\n",
    "            print(i,end=\" \")\n",
    "\n",
    "prime(10)"
   ]
  },
  {
   "cell_type": "code",
   "execution_count": 12,
   "id": "dd145037",
   "metadata": {},
   "outputs": [
    {
     "data": {
      "text/plain": [
       "[2, 3, 5, 7, 11]"
      ]
     },
     "execution_count": 12,
     "metadata": {},
     "output_type": "execute_result"
    }
   ],
   "source": [
    "def firstn(count):\n",
    "    primes = []\n",
    "\n",
    "    n = 2\n",
    "    while len(primes) != count:\n",
    "        for i in range(2, n // 2 + 1):\n",
    "            if n % i == 0:\n",
    "                break\n",
    "        else:\n",
    "            primes.append(n)\n",
    "        n += 1\n",
    "\n",
    "    return primes\n",
    "firstn(5)"
   ]
  },
  {
   "cell_type": "markdown",
   "id": "a543895a",
   "metadata": {},
   "source": [
    "## 3.5: Root finding"
   ]
  },
  {
   "cell_type": "code",
   "execution_count": 39,
   "id": "e359e166",
   "metadata": {},
   "outputs": [
    {
     "name": "stdout",
     "output_type": "stream",
     "text": [
      "C value is :  -2.0007\n"
     ]
    }
   ],
   "source": [
    "def f(x):\n",
    "    return x + 2\n",
    "  \n",
    "def root(f,a,b):\n",
    " \n",
    "    if (f(a) * f(b) >= 0):\n",
    "       \n",
    "        return \"function eval have same sign\"\n",
    "        \n",
    "  \n",
    "    c = a\n",
    "    while ((b-a) >= 0.01):\n",
    " \n",
    "        c = (a+b)/2\n",
    "  \n",
    "        if (f(c) == 0.0):\n",
    "            break\n",
    "  \n",
    "        if (f(c)*f(a) < 0):\n",
    "            b = c\n",
    "        else:\n",
    "            a = c\n",
    "             \n",
    "    print(\"C value is : \",\"%.4f\"%c)\n",
    "     \n",
    "\n",
    "root(f,-20, 30)"
   ]
  }
 ],
 "metadata": {
  "kernelspec": {
   "display_name": "Python 3 (ipykernel)",
   "language": "python",
   "name": "python3"
  },
  "language_info": {
   "codemirror_mode": {
    "name": "ipython",
    "version": 3
   },
   "file_extension": ".py",
   "mimetype": "text/x-python",
   "name": "python",
   "nbconvert_exporter": "python",
   "pygments_lexer": "ipython3",
   "version": "3.10.2"
  }
 },
 "nbformat": 4,
 "nbformat_minor": 5
}
